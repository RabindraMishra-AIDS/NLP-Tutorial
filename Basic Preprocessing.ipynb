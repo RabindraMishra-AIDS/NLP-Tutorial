{
 "cells": [
  {
   "cell_type": "code",
   "execution_count": 4,
   "metadata": {},
   "outputs": [],
   "source": [
    "import re "
   ]
  },
  {
   "cell_type": "markdown",
   "metadata": {},
   "source": [
    "##Text Cleaning"
   ]
  },
  {
   "cell_type": "code",
   "execution_count": 5,
   "metadata": {},
   "outputs": [
    {
     "name": "stdout",
     "output_type": "stream",
     "text": [
      "  My name is Rabindra. I am Learning NLP \n"
     ]
    }
   ],
   "source": [
    "data =\" <h1> My name is Rabindra. I am Learning NLP <?>\"\n",
    "def text_clean (text):\n",
    "    p=re.compile(r'<.*?>')\n",
    "    return p.sub(\"\",text)  #sub stands for substrings and used to replace matching characters.\n",
    "print(text_clean(data))"
   ]
  },
  {
   "cell_type": "markdown",
   "metadata": {},
   "source": [
    "##Spell Checking"
   ]
  },
  {
   "cell_type": "code",
   "execution_count": 7,
   "metadata": {},
   "outputs": [
    {
     "name": "stdout",
     "output_type": "stream",
     "text": [
      "manner generation\n"
     ]
    }
   ],
   "source": [
    "text=\"mannerr ggeneration\"\n",
    "from textblob import TextBlob\n",
    "correct_text=TextBlob(text)\n",
    "print(correct_text.correct())"
   ]
  },
  {
   "cell_type": "markdown",
   "metadata": {},
   "source": [
    "##Tokenization"
   ]
  },
  {
   "cell_type": "code",
   "execution_count": 25,
   "metadata": {},
   "outputs": [
    {
     "name": "stderr",
     "output_type": "stream",
     "text": [
      "[nltk_data] Downloading package punkt to\n",
      "[nltk_data]     C:\\Users\\admin\\AppData\\Roaming\\nltk_data...\n"
     ]
    },
    {
     "name": "stdout",
     "output_type": "stream",
     "text": [
      "['Rabindra Mishra  is good boy.', 'His friend is lorem03 and lorem19.', 'They live in Bhayander.']\n",
      " \n",
      "**************Words Token ***********************\n",
      "['Rabindra', 'Mishra', 'is', 'good', 'boy', '.']\n",
      "['His', 'friend', 'is', 'lorem03', 'and', 'lorem19', '.']\n",
      "['They', 'live', 'in', 'Bhayander', '.']\n"
     ]
    },
    {
     "name": "stderr",
     "output_type": "stream",
     "text": [
      "[nltk_data]   Package punkt is already up-to-date!\n"
     ]
    }
   ],
   "source": [
    "import nltk\n",
    "nltk.download('punkt')\n",
    "from nltk.tokenize import sent_tokenize,word_tokenize\n",
    "dummy=\"Rabindra Mishra  is good boy. His friend is lorem03 and lorem19. They live in Bhayander.\"\n",
    "sentence=sent_tokenize(dummy)\n",
    "print(sentence)\n",
    "print(\" \")\n",
    "print(\"**************Words Token ***********************\")\n",
    "for i in sentence:\n",
    "    print(word_tokenize(i))\n",
    "\n",
    "\n"
   ]
  },
  {
   "cell_type": "code",
   "execution_count": null,
   "metadata": {},
   "outputs": [],
   "source": []
  }
 ],
 "metadata": {
  "kernelspec": {
   "display_name": "Python 3",
   "language": "python",
   "name": "python3"
  },
  "language_info": {
   "codemirror_mode": {
    "name": "ipython",
    "version": 3
   },
   "file_extension": ".py",
   "mimetype": "text/x-python",
   "name": "python",
   "nbconvert_exporter": "python",
   "pygments_lexer": "ipython3",
   "version": "3.11.1"
  }
 },
 "nbformat": 4,
 "nbformat_minor": 2
}
