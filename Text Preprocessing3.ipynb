{
 "cells": [
  {
   "cell_type": "markdown",
   "metadata": {},
   "source": [
    "## Stemming"
   ]
  },
  {
   "cell_type": "markdown",
   "metadata": {},
   "source": [
    "##### In Grammar , inflection is the modification of a word to express different grammatical categories such as tense, case , voice, aspect,person,number,gender and mood\n",
    "eg: (walk , walking, walked) ; (do,doable)  word carring same meaning but different in some grammatical categories"
   ]
  },
  {
   "cell_type": "code",
   "execution_count": 1,
   "metadata": {},
   "outputs": [],
   "source": [
    "import nltk"
   ]
  },
  {
   "cell_type": "code",
   "execution_count": 2,
   "metadata": {},
   "outputs": [],
   "source": [
    "from nltk.stem.porter import PorterStemmer"
   ]
  },
  {
   "cell_type": "code",
   "execution_count": 3,
   "metadata": {},
   "outputs": [],
   "source": [
    "ps=PorterStemmer()\n",
    "def stem_words(text):\n",
    "    return \" \".join(ps.stem(word) for word in text.split())"
   ]
  },
  {
   "cell_type": "code",
   "execution_count": 4,
   "metadata": {},
   "outputs": [
    {
     "name": "stdout",
     "output_type": "stream",
     "text": [
      "he use to walk after see that rabindra is also walk\n",
      "danc like a dancer\n"
     ]
    }
   ],
   "source": [
    "text=\"He used to walk after seeing that Rabindra is also Walking\"  #sometimes stem will not be a valid word eg:danc (Problem of Stemming)\n",
    "text1=\"dance like a dancer\"\n",
    "print(stem_words(text))\n",
    "print(stem_words(text1))"
   ]
  },
  {
   "cell_type": "markdown",
   "metadata": {},
   "source": [
    "#### To overcome the Problem we can apply lemmatization although it is similiar to stemming "
   ]
  },
  {
   "cell_type": "markdown",
   "metadata": {},
   "source": [
    "## Lemmatization"
   ]
  },
  {
   "cell_type": "markdown",
   "metadata": {},
   "source": [
    "#### Unlike stemming , lemmatization always ensures that the root word always belongs to the Language. But Lemmatization is slow compared to stemming."
   ]
  },
  {
   "cell_type": "code",
   "execution_count": 5,
   "metadata": {},
   "outputs": [
    {
     "data": {
      "text/plain": [
       "['Rabindra',\n",
       " 'was',\n",
       " 'PLaying',\n",
       " 'chess',\n",
       " 'and',\n",
       " 'carrom',\n",
       " 'simultanouesly',\n",
       " 'But',\n",
       " 'he',\n",
       " 'won',\n",
       " 'in',\n",
       " 'chess',\n",
       " 'and',\n",
       " 'lost',\n",
       " 'in',\n",
       " 'carrom',\n",
       " 'what',\n",
       " 'dou',\n",
       " 'you',\n",
       " 'think']"
      ]
     },
     "execution_count": 5,
     "metadata": {},
     "output_type": "execute_result"
    }
   ],
   "source": [
    "from nltk.stem import WordNetLemmatizer\n",
    "\n",
    "wl=WordNetLemmatizer()\n",
    "sent=\"Rabindra was PLaying chess and carrom simultanouesly. But he won in chess and lost in carrom? what dou you think .\"\n",
    "punc='?:1.,;'\n",
    "sent_words=nltk.word_tokenize(sent)\n",
    "for word in sent_words:                     #Removing Punctuations\n",
    "    if word in punc:\n",
    "        sent_words.remove(word)\n",
    "sent_words"
   ]
  },
  {
   "cell_type": "markdown",
   "metadata": {},
   "source": [
    "#### Need to specify POS (Parts of sppech) while applying wordlemmatizer so that it can create proper lemma words"
   ]
  },
  {
   "cell_type": "code",
   "execution_count": 6,
   "metadata": {},
   "outputs": [
    {
     "name": "stderr",
     "output_type": "stream",
     "text": [
      "[nltk_data] Downloading package wordnet to\n",
      "[nltk_data]     C:\\Users\\admin\\AppData\\Roaming\\nltk_data...\n"
     ]
    },
    {
     "name": "stdout",
     "output_type": "stream",
     "text": [
      "Word                Lemma               \n",
      "Rabindra            Rabindra            \n",
      "was                 wa                  \n",
      "PLaying             PLaying             \n",
      "chess               chess               \n",
      "and                 and                 \n",
      "carrom              carrom              \n",
      "simultanouesly      simultanouesly      \n",
      "But                 But                 \n",
      "he                  he                  \n",
      "won                 won                 \n",
      "in                  in                  \n",
      "chess               chess               \n",
      "and                 and                 \n",
      "lost                lost                \n",
      "in                  in                  \n",
      "carrom              carrom              \n",
      "what                what                \n",
      "dou                 dou                 \n",
      "you                 you                 \n",
      "think               think               \n"
     ]
    }
   ],
   "source": [
    "nltk.download('wordnet')\n",
    "print('{0:20}{1:20}'.format('Word','Lemma'))\n",
    "for word in sent_words:\n",
    "    print('{0:20}{1:20}'.format(word,wl.lemmatize(word)))  # Can observe no such difference "
   ]
  },
  {
   "cell_type": "code",
   "execution_count": 11,
   "metadata": {},
   "outputs": [
    {
     "name": "stdout",
     "output_type": "stream",
     "text": [
      "Word                Lemma               \n",
      "Rabindra            Rabindra            \n",
      "was                 be                  \n",
      "PLaying             PLaying             \n",
      "chess               chess               \n",
      "and                 and                 \n",
      "carrom              carrom              \n",
      "simultanouesly      simultanouesly      \n",
      "But                 But                 \n",
      "he                  he                  \n",
      "won                 win                 \n",
      "in                  in                  \n",
      "chess               chess               \n",
      "and                 and                 \n",
      "lost                lose                \n",
      "in                  in                  \n",
      "carrom              carrom              \n",
      "what                what                \n",
      "dou                 dou                 \n",
      "you                 you                 \n",
      "think               think               \n"
     ]
    },
    {
     "name": "stderr",
     "output_type": "stream",
     "text": [
      "[nltk_data] Downloading package wordnet to\n",
      "[nltk_data]     C:\\Users\\admin\\AppData\\Roaming\\nltk_data...\n",
      "[nltk_data]   Package wordnet is already up-to-date!\n"
     ]
    }
   ],
   "source": [
    "nltk.download('wordnet')\n",
    "print('{0:20}{1:20}'.format('Word','Lemma'))\n",
    "for word in sent_words:\n",
    "    print('{0:20}{1:20}'.format(word,wl.lemmatize(word,pos='v'))) #specifying pos"
   ]
  },
  {
   "cell_type": "markdown",
   "metadata": {},
   "source": [
    "#### Note: Stemming is Faster than lemmatization while lemma is better than stem words "
   ]
  },
  {
   "cell_type": "markdown",
   "metadata": {},
   "source": []
  }
 ],
 "metadata": {
  "kernelspec": {
   "display_name": "Python 3",
   "language": "python",
   "name": "python3"
  },
  "language_info": {
   "codemirror_mode": {
    "name": "ipython",
    "version": 3
   },
   "file_extension": ".py",
   "mimetype": "text/x-python",
   "name": "python",
   "nbconvert_exporter": "python",
   "pygments_lexer": "ipython3",
   "version": "3.11.1"
  }
 },
 "nbformat": 4,
 "nbformat_minor": 2
}
